{
 "cells": [
  {
   "cell_type": "markdown",
   "metadata": {},
   "source": [
    "# Tarea 1\n",
    "\n",
    "Conversión de unidades de energía"
   ]
  },
  {
   "cell_type": "code",
   "execution_count": 6,
   "metadata": {},
   "outputs": [
    {
     "name": "stdout",
     "output_type": "stream",
     "text": [
      "Ingresa un valor de Energia en Rydbergs60\n",
      "60.000000 [Rydberg] = 30.000000 [Hartree]\n",
      "60.000000 [Rydberg] = 816.341535 [eV]\n",
      "60.000000 [Rydberg] = 78765.000000 [kJ/mol]\n",
      "60.000000 [Rydberg] = 18825.281730 [kcal/mol]\n"
     ]
    }
   ],
   "source": [
    "Rydberg = float(input(\"Ingresa un valor de Energia en Rydbergs\"))\n",
    "\n",
    "Transformaciones = [Rydberg/2,(27.2113845/2)*Rydberg,(2625.5/2)*Rydberg,(627.509391/2)*Rydberg]\n",
    "Unidades = [\"Hartree\",\"eV\",\"kJ/mol\",\"kcal/mol\"]\n",
    "\n",
    "for i in range(len(Transformaciones)):\n",
    "    print \"%f [Rydberg] = %f [%s]\"%(Rydberg,Transformaciones[i],Unidades[i])"
   ]
  },
  {
   "cell_type": "code",
   "execution_count": null,
   "metadata": {},
   "outputs": [],
   "source": [
    "# por cuestiones de claridad no\n",
    "# devolveré inmediatamente el arreglo :) \n",
    "# (sé que arriba no lo hice XD)\n",
    "def Reyleigh(x):\n",
    "    H = x/2\n",
    "    eV = (27.2113845/2)*x\n",
    "    kJmol = (2625.5/2)*x\n",
    "    kcalmol = (627.509391/2)*x\n",
    "    return [[H,eV,kJmol,kcalmol],[\"Hartree\",\"eV\",\"kJ/mol\",\"kcal/mol\"]]\n",
    "    \n",
    "def Hartree(x):\n",
    "    R = x*2\n",
    "    eV = 27.2113845*x\n",
    "    kJmol = 2625.5*x\n",
    "    kcalmol = 627.509391*x\n",
    "    return [[R,eV,kJmol,kcalmol],[\"Rydberg\",\"eV\",\"kJ/mol\",\"kcal/mol\"]]\n",
    "\n",
    "def electronVolt(x):\n",
    "    H = x/27.2113845\n",
    "    R = 2*x/27.2113845\n",
    "    kJmol = (2625.5/27.2113845)*x\n",
    "    kcalmol = (627.509391/27.2113845)*x\n",
    "    return [[H,R,kJmol,kcalmol],[\"Hartree\",\"Rydberg\",\"kJ/mol\",\"kcal/mol\"]]\n",
    "\n",
    "def kiloJouleMol(x):\n",
    "    H = x/2625.5\n",
    "    R = x*2/2625.5\n",
    "    eV = (27.2113845/2625.5)*x\n",
    "    kcalmol = (627.509391/2625.5)*x\n",
    "    return [[H,R,eV,kcalmol],[\"Hartree\",\"Ry\",\"eV\",\"kcal/mol\"]]\n",
    "\n",
    "def kilocalMol(x):\n",
    "    H = x/627.509391\n",
    "    R = x*2/627.509391\n",
    "    eV = (27.2113845/627.509391)*x\n",
    "    kJmol = (2625.5/627.509391)*x\n",
    "    return [[H,R,eV,kJmol],[\"Hartree\",\"Ry\",\"eV\",\"kJ/mol\"]]\n",
    "    \n",
    "print \"El siguiente codigo cambia las energias de unidades\"\n",
    "print \"escribe las energías \"\n",
    "Energia = \"12,R\"\n",
    "\n",
    "valor, unidades = Energia.split(\" \")"
   ]
  }
 ],
 "metadata": {
  "kernelspec": {
   "display_name": "Python 2",
   "language": "python",
   "name": "python2"
  },
  "language_info": {
   "codemirror_mode": {
    "name": "ipython",
    "version": 2
   },
   "file_extension": ".py",
   "mimetype": "text/x-python",
   "name": "python",
   "nbconvert_exporter": "python",
   "pygments_lexer": "ipython2",
   "version": "2.7.15"
  }
 },
 "nbformat": 4,
 "nbformat_minor": 2
}
