{
 "cells": [
  {
   "cell_type": "markdown",
   "metadata": {},
   "source": [
    "# Tarea 1\n",
    "\n",
    "## Problema 1\n",
    "\n",
    "Conversión de unidades de energía, partiendo de las siguientes relaciones:\n",
    "* $E_h = 2 \\left[Ry\\right]$\n",
    "* $E_h = 27.2113845 \\left[eV\\right]$\n",
    "* $E_h = 2625.5 \\left[\\dfrac{kJ}{mol}\\right]$\n",
    "* $E_h = 627.509391 \\left[\\dfrac{kcal}{mol}\\right]$\n",
    "\n",
    "a)"
   ]
  },
  {
   "cell_type": "code",
   "execution_count": 18,
   "metadata": {},
   "outputs": [
    {
     "name": "stdout",
     "output_type": "stream",
     "text": [
      "Ingresa un valor de Energia en Rydbergs123\n",
      "123.000000 [Rydberg] = 61.500000 [Hartree]\n",
      "123.000000 [Rydberg] = 1673.500147 [eV]\n",
      "123.000000 [Rydberg] = 161468.250000 [kJ/mol]\n",
      "123.000000 [Rydberg] = 38591.827547 [kcal/mol]\n"
     ]
    }
   ],
   "source": [
    "Rydberg = float(input(\"Ingresa un valor de Energia en Rydbergs\"))\n",
    "\n",
    "Transformaciones = [Rydberg/2,(27.2113845/2)*Rydberg,(2625.5/2)*Rydberg,(627.509391/2)*Rydberg]\n",
    "Unidades = [\"Hartree\",\"eV\",\"kJ/mol\",\"kcal/mol\"]\n",
    "\n",
    "for i in range(len(Transformaciones)):\n",
    "    print \"%f [Rydberg] = %f [%s]\"%(Rydberg,Transformaciones[i],Unidades[i])"
   ]
  },
  {
   "cell_type": "markdown",
   "metadata": {},
   "source": [
    "b)"
   ]
  },
  {
   "cell_type": "code",
   "execution_count": 20,
   "metadata": {},
   "outputs": [
    {
     "name": "stdout",
     "output_type": "stream",
     "text": [
      "El siguiente codigo cambia las energias de unidades\n",
      "escribe las energias entre comillas con su unidad entre corchetes,\n",
      "separando el valor por un espacio es decir: \"12 [eV]\"\n",
      "solo los siguientes valores son validos\n",
      "[Eh] [Ry] [eV] [kJ/mol] [kcal/mol]\n",
      "\n"
     ]
    },
    {
     "ename": "KeyboardInterrupt",
     "evalue": "",
     "output_type": "error",
     "traceback": [
      "\u001b[0;31m---------------------------------------------------------------------------\u001b[0m",
      "\u001b[0;31mKeyboardInterrupt\u001b[0m                         Traceback (most recent call last)",
      "\u001b[0;32m<ipython-input-20-efe48cb0ca59>\u001b[0m in \u001b[0;36m<module>\u001b[0;34m()\u001b[0m\n\u001b[1;32m     68\u001b[0m \u001b[0;32mprint\u001b[0m \u001b[0;34m\"[Eh] [Ry] [eV] [kJ/mol] [kcal/mol]\"\u001b[0m\u001b[0;34m\u001b[0m\u001b[0m\n\u001b[1;32m     69\u001b[0m \u001b[0;32mprint\u001b[0m\u001b[0;34m\u001b[0m\u001b[0m\n\u001b[0;32m---> 70\u001b[0;31m \u001b[0mEnergia\u001b[0m \u001b[0;34m=\u001b[0m \u001b[0minput\u001b[0m\u001b[0;34m(\u001b[0m\u001b[0;34m\"Ingresa la energia con sus unidades\"\u001b[0m\u001b[0;34m)\u001b[0m\u001b[0;34m\u001b[0m\u001b[0m\n\u001b[0m\u001b[1;32m     71\u001b[0m \u001b[0mvalor\u001b[0m\u001b[0;34m,\u001b[0m \u001b[0munidades\u001b[0m \u001b[0;34m=\u001b[0m \u001b[0mEnergia\u001b[0m\u001b[0;34m.\u001b[0m\u001b[0msplit\u001b[0m\u001b[0;34m(\u001b[0m\u001b[0;34m\" \"\u001b[0m\u001b[0;34m)\u001b[0m\u001b[0;34m\u001b[0m\u001b[0m\n\u001b[1;32m     72\u001b[0m \u001b[0mTransforme\u001b[0m\u001b[0;34m(\u001b[0m\u001b[0mvalor\u001b[0m\u001b[0;34m,\u001b[0m\u001b[0munidades\u001b[0m\u001b[0;34m)\u001b[0m\u001b[0;34m\u001b[0m\u001b[0m\n",
      "\u001b[0;32m/home/neuromante/anaconda2/lib/python2.7/site-packages/ipykernel/ipkernel.pyc\u001b[0m in \u001b[0;36m<lambda>\u001b[0;34m(prompt)\u001b[0m\n\u001b[1;32m    174\u001b[0m             \u001b[0mself\u001b[0m\u001b[0;34m.\u001b[0m\u001b[0m_sys_eval_input\u001b[0m \u001b[0;34m=\u001b[0m \u001b[0mbuiltin_mod\u001b[0m\u001b[0;34m.\u001b[0m\u001b[0minput\u001b[0m\u001b[0;34m\u001b[0m\u001b[0m\n\u001b[1;32m    175\u001b[0m             \u001b[0mbuiltin_mod\u001b[0m\u001b[0;34m.\u001b[0m\u001b[0mraw_input\u001b[0m \u001b[0;34m=\u001b[0m \u001b[0mself\u001b[0m\u001b[0;34m.\u001b[0m\u001b[0mraw_input\u001b[0m\u001b[0;34m\u001b[0m\u001b[0m\n\u001b[0;32m--> 176\u001b[0;31m             \u001b[0mbuiltin_mod\u001b[0m\u001b[0;34m.\u001b[0m\u001b[0minput\u001b[0m \u001b[0;34m=\u001b[0m \u001b[0;32mlambda\u001b[0m \u001b[0mprompt\u001b[0m\u001b[0;34m=\u001b[0m\u001b[0;34m''\u001b[0m\u001b[0;34m:\u001b[0m \u001b[0meval\u001b[0m\u001b[0;34m(\u001b[0m\u001b[0mself\u001b[0m\u001b[0;34m.\u001b[0m\u001b[0mraw_input\u001b[0m\u001b[0;34m(\u001b[0m\u001b[0mprompt\u001b[0m\u001b[0;34m)\u001b[0m\u001b[0;34m)\u001b[0m\u001b[0;34m\u001b[0m\u001b[0m\n\u001b[0m\u001b[1;32m    177\u001b[0m         \u001b[0mself\u001b[0m\u001b[0;34m.\u001b[0m\u001b[0m_save_getpass\u001b[0m \u001b[0;34m=\u001b[0m \u001b[0mgetpass\u001b[0m\u001b[0;34m.\u001b[0m\u001b[0mgetpass\u001b[0m\u001b[0;34m\u001b[0m\u001b[0m\n\u001b[1;32m    178\u001b[0m         \u001b[0mgetpass\u001b[0m\u001b[0;34m.\u001b[0m\u001b[0mgetpass\u001b[0m \u001b[0;34m=\u001b[0m \u001b[0mself\u001b[0m\u001b[0;34m.\u001b[0m\u001b[0mgetpass\u001b[0m\u001b[0;34m\u001b[0m\u001b[0m\n",
      "\u001b[0;32m/home/neuromante/anaconda2/lib/python2.7/site-packages/ipykernel/kernelbase.pyc\u001b[0m in \u001b[0;36mraw_input\u001b[0;34m(self, prompt)\u001b[0m\n\u001b[1;32m    702\u001b[0m             \u001b[0mself\u001b[0m\u001b[0;34m.\u001b[0m\u001b[0m_parent_ident\u001b[0m\u001b[0;34m,\u001b[0m\u001b[0;34m\u001b[0m\u001b[0m\n\u001b[1;32m    703\u001b[0m             \u001b[0mself\u001b[0m\u001b[0;34m.\u001b[0m\u001b[0m_parent_header\u001b[0m\u001b[0;34m,\u001b[0m\u001b[0;34m\u001b[0m\u001b[0m\n\u001b[0;32m--> 704\u001b[0;31m             \u001b[0mpassword\u001b[0m\u001b[0;34m=\u001b[0m\u001b[0mFalse\u001b[0m\u001b[0;34m,\u001b[0m\u001b[0;34m\u001b[0m\u001b[0m\n\u001b[0m\u001b[1;32m    705\u001b[0m         )\n\u001b[1;32m    706\u001b[0m \u001b[0;34m\u001b[0m\u001b[0m\n",
      "\u001b[0;32m/home/neuromante/anaconda2/lib/python2.7/site-packages/ipykernel/kernelbase.pyc\u001b[0m in \u001b[0;36m_input_request\u001b[0;34m(self, prompt, ident, parent, password)\u001b[0m\n\u001b[1;32m    732\u001b[0m             \u001b[0;32mexcept\u001b[0m \u001b[0mKeyboardInterrupt\u001b[0m\u001b[0;34m:\u001b[0m\u001b[0;34m\u001b[0m\u001b[0m\n\u001b[1;32m    733\u001b[0m                 \u001b[0;31m# re-raise KeyboardInterrupt, to truncate traceback\u001b[0m\u001b[0;34m\u001b[0m\u001b[0;34m\u001b[0m\u001b[0m\n\u001b[0;32m--> 734\u001b[0;31m                 \u001b[0;32mraise\u001b[0m \u001b[0mKeyboardInterrupt\u001b[0m\u001b[0;34m\u001b[0m\u001b[0m\n\u001b[0m\u001b[1;32m    735\u001b[0m             \u001b[0;32melse\u001b[0m\u001b[0;34m:\u001b[0m\u001b[0;34m\u001b[0m\u001b[0m\n\u001b[1;32m    736\u001b[0m                 \u001b[0;32mbreak\u001b[0m\u001b[0;34m\u001b[0m\u001b[0m\n",
      "\u001b[0;31mKeyboardInterrupt\u001b[0m: "
     ]
    }
   ],
   "source": [
    "# por cuestiones de claridad no\n",
    "# devolveré inmediatamente el arreglo :) \n",
    "# (sé que arriba no lo hice XD)\n",
    "def Rydberg(x):\n",
    "    H = x/2\n",
    "    eV = (27.2113845/2)*x\n",
    "    kJmol = (2625.5/2)*x\n",
    "    kcalmol = (627.509391/2)*x\n",
    "    return [[H,eV,kJmol,kcalmol],[\"Eh\",\"eV\",\"kJ/mol\",\"kcal/mol\"]]\n",
    "    \n",
    "def Hartree(x):\n",
    "    R = x*2\n",
    "    eV = 27.2113845*x\n",
    "    kJmol = 2625.5*x\n",
    "    kcalmol = 627.509391*x\n",
    "    return [[R,eV,kJmol,kcalmol],[\"Ry\",\"eV\",\"kJ/mol\",\"kcal/mol\"]]\n",
    "\n",
    "def electronVolt(x):\n",
    "    H = x/27.2113845\n",
    "    R = 2*x/27.2113845\n",
    "    kJmol = (2625.5/27.2113845)*x\n",
    "    kcalmol = (627.509391/27.2113845)*x\n",
    "    return [[H,R,kJmol,kcalmol],[\"Eh\",\"Ry\",\"kJ/mol\",\"kcal/mol\"]]\n",
    "\n",
    "def kiloJouleMol(x):\n",
    "    H = x/2625.5\n",
    "    R = x*2/2625.5\n",
    "    eV = (27.2113845/2625.5)*x\n",
    "    kcalmol = (627.509391/2625.5)*x\n",
    "    return [[H,R,eV,kcalmol],[\"Eh\",\"Ry\",\"eV\",\"kcal/mol\"]]\n",
    "\n",
    "def kilocalMol(x):\n",
    "    H = x/627.509391\n",
    "    R = x*2/627.509391\n",
    "    eV = (27.2113845/627.509391)*x\n",
    "    kJmol = (2625.5/627.509391)*x\n",
    "    return [[H,R,eV,kJmol],[\"Eh\",\"Ry\",\"eV\",\"kJ/mol\"]]\n",
    "\n",
    "def Transforme(valor,unidades):\n",
    "    valor = float(valor)\n",
    "    if unidades == \"[Ry]\":\n",
    "        T = Rydberg(valor)\n",
    "        for i in range(len(T[0])):\n",
    "            print \"%f[Ry] = %f[%s]\"%(valor,T[0][i],T[1][i])\n",
    "    elif unidades == \"[Eh]\":\n",
    "        T = Hartree(valor)\n",
    "        for i in range(len(T[0])):\n",
    "            print \"%f[Eh] = %f[%s]\"%(valor,T[0][i],T[1][i])\n",
    "    elif unidades == \"[eV]\":\n",
    "        T = electronVolt(valor)\n",
    "        for i in range(len(T[0])):\n",
    "            print \"%f[eV] = %f[%s]\"%(valor,T[0][i],T[1][i])\n",
    "    elif unidades == \"[kJ/mol]\":\n",
    "        T = kiloJouleMol(valor)\n",
    "        for i in range(len(T[0])):\n",
    "            print \"%f[kJ/mol] = %f[%s]\"%(valor,T[0][i],T[1][i])\n",
    "    elif unidades == \"[kcal/mol]\":\n",
    "        T = kilocalMol(valor)\n",
    "        for i in range(len(T[0])):\n",
    "            print \"%f[kcal/mol] = %f[%s]\"%(valor,T[0][i],T[1][i])\n",
    "    else:\n",
    "        print \"Valor o formato incorrecto\"\n",
    "    \n",
    "print \"El siguiente codigo cambia las energias de unidades\"\n",
    "print \"escribe las energias entre comillas con su unidad entre corchetes,\"\n",
    "print \"separando el valor por un espacio es decir: \\\"12 [eV]\\\"\"\n",
    "print \"solo los siguientes valores son validos\"\n",
    "print \"[Eh] [Ry] [eV] [kJ/mol] [kcal/mol]\"\n",
    "print\n",
    "Energia = input(\"Ingresa la energia con sus unidades\")\n",
    "valor, unidades = Energia.split(\" \")\n",
    "Transforme(valor,unidades)\n",
    "\n",
    "\n"
   ]
  },
  {
   "cell_type": "markdown",
   "metadata": {},
   "source": [
    "## Problema 2 (Transformaciones)"
   ]
  },
  {
   "cell_type": "code",
   "execution_count": 38,
   "metadata": {},
   "outputs": [],
   "source": [
    "from math import *\n",
    "\n",
    "def cart_pol (x , y ):\n",
    "    r = sqrt(x**2+y**2)\n",
    "    if x > 0 and y > 0:\n",
    "        theta = degrees(atan(y/x))\n",
    "    elif x > 0 and y < 0:\n",
    "        theta = 360-degrees(atan(y/x))\n",
    "    elif x < 0 and y > 0:\n",
    "        theta = 180-degrees(atan(y/x))\n",
    "    elif x < 0 and y < 0:\n",
    "        theta = 180+degrees(atan(y/x))\n",
    "    elif x == 0 and y > 0:\n",
    "        theta = 90\n",
    "    elif x == 0 and y < 0:\n",
    "        theta = 270\n",
    "    elif x > 0 and y == 0:\n",
    "        tehta = 0\n",
    "    elif x < 0 and y == 0:\n",
    "        theta = 180\n",
    "    elif x == 0 and y == 0:\n",
    "        return \"Error\"\n",
    "    return r , theta\n",
    "\n",
    "def pol_cart (r , theta ):\n",
    "    x = r*cos(radians(theta))\n",
    "    y = r*sin(radians(theta))\n",
    "    return x , y\n",
    "\n",
    "def cart_cil (x ,y , z ):\n",
    "    r = sqrt(x**2+y**2)\n",
    "    theta = cart_pol(x,y)[1]\n",
    "    return r , theta , z\n",
    "\n",
    "def cart_esf (x , y , z ):\n",
    "    r = sqrt(x**2+y**2+z**2)\n",
    "    theta = cart_pol(z,sqrt(x**2+y**2))[1]\n",
    "    phi = cart_pol(x,y)[1]\n",
    "    return r , theta , phi\n",
    "# continuas con las otras funciones"
   ]
  },
  {
   "cell_type": "code",
   "execution_count": 41,
   "metadata": {},
   "outputs": [
    {
     "name": "stdout",
     "output_type": "stream",
     "text": [
      "(1.4142135623730951, 45.0)\n",
      "(1.0000000000000002, 1.0)\n",
      "(1.4142135623730951, 45.0, 3)\n",
      "(1.7320508075688772, 54.735610317245346, 45.0)\n"
     ]
    }
   ],
   "source": [
    "print cart_pol(1,1)\n",
    "print pol_cart(sqrt(2),45)\n",
    "print cart_cil(1,1,3)\n",
    "print cart_esf(1,1,1)"
   ]
  },
  {
   "cell_type": "markdown",
   "metadata": {},
   "source": [
    "## Problema 3 Satelite\n",
    "\n",
    "Demuestra que:\n",
    "\n",
    "\\begin{equation} \n",
    "h = \\left(\\dfrac{GMT^2}{4π^2}\\right)− R\n",
    "\\end{equation}\n",
    "\n",
    "sabemos que:\n",
    "\n",
    "\\begin{equation} \n",
    "F_{centripeta} = m\\omega^2r\n",
    "\\end{equation}\n",
    "\n",
    "Pero sabemos que la fuerza centripeta es ejercida por la fuerza de Gravedad, entonces:\n",
    "\n",
    "\\begin{equation}\n",
    "m\\omega^2r=\\dfrac{GmM}{r^2}\n",
    "\\end{equation}\n",
    "\n",
    "para nuestro caso $r = (h+R)$ y tenemos que\n",
    "\n",
    "\\begin{equation}\n",
    "\\omega^2(h+R)=\\dfrac{GM}{(h+R)^2}\n",
    "\\end{equation}\n",
    "\n",
    "entonces\n",
    "\n",
    "\\begin{equation}\n",
    "(h+R)^3=\\dfrac{GM}{\\omega^2}\n",
    "\\end{equation}\n",
    "\n",
    "Luego notemos que $\\omega=2\\pi\\nu$ y además $T=1/\\nu$ y llegamos a:\n",
    "\n",
    "\\begin{equation}\n",
    "h=\\left(\\dfrac{GM}{4\\pi^2\\nu^2}\\right)^{1/3}-R = \\left(\\dfrac{GMT^2}{4\\pi^2}\\right)^{1/3}-R\n",
    "\\end{equation}\n"
   ]
  },
  {
   "cell_type": "code",
   "execution_count": 2,
   "metadata": {},
   "outputs": [
    {
     "name": "stdout",
     "output_type": "stream",
     "text": [
      "Este programa calcula la órbita segun el periodo\n",
      "unidades validas del periodo segundos s, minutos min, hora h, dia d, año y\n",
      "unidades validas para h kilometros km, y metros m\n",
      "Ejemplo de uso:\n",
      "\"12 d km\"\n",
      "\n",
      "\n",
      "Ingrese el periodo y las unidades \"12 h km\"\n",
      "Para T = 12[h], h=20238.573851[km]\n"
     ]
    }
   ],
   "source": [
    "from math import *\n",
    "\n",
    "def minSec(x):\n",
    "    return x*60\n",
    "def hoursSec(x):\n",
    "    return minSec(x*60)\n",
    "def daySec(x):\n",
    "    return hoursSec(x*24)\n",
    "def monthSec(x):\n",
    "    return daySec(30*x)\n",
    "def yearSec(x):\n",
    "    return monthSec(12*x)\n",
    "\n",
    "def Transform(T_unit,T):\n",
    "    if T_unit == \"min\":\n",
    "        T = minSec(float(T))\n",
    "    elif T_unit == \"h\":\n",
    "        T = hoursSec(float(T))\n",
    "    elif T_unit == \"d\":\n",
    "        T = daySec(float(T))\n",
    "    elif T_unit == \"y\":\n",
    "        T = yearSec(float(T))\n",
    "    elif T_unit == \"s\":\n",
    "        T = float(T)\n",
    "    return T\n",
    "\n",
    "G = 6.674e-11\n",
    "M = 5.972e24\n",
    "R = 6371000.\n",
    "\n",
    "print \"Este programa calcula la órbita segun el periodo\"\n",
    "print \"unidades validas del periodo segundos s, minutos min, hora h, dia d, año y\"\n",
    "print \"unidades validas para h kilometros km, y metros m\"\n",
    "print \"Ejemplo de uso:\"\n",
    "print \"\\\"12 d km\\\"\\n\\n\"\n",
    "T,T_unit,h_unit = input(\"Ingrese el periodo y las unidades \").split(\" \")\n",
    "periodo = T\n",
    "\n",
    "T = Transform(T_unit,T)\n",
    "\n",
    "h = (((G*M*T**2)/(4*pi**2))**(1./3))-R\n",
    "\n",
    "if h_unit == \"km\":\n",
    "    h = h/1000\n",
    "    \n",
    "print \"Para T = %s[%s], h=%f[%s]\"%(periodo,T_unit,h,h_unit)"
   ]
  },
  {
   "cell_type": "markdown",
   "metadata": {},
   "source": [
    "c)"
   ]
  },
  {
   "cell_type": "code",
   "execution_count": 3,
   "metadata": {},
   "outputs": [
    {
     "name": "stdout",
     "output_type": "stream",
     "text": [
      "2700.0\n",
      "Para T = 45[min], h=-2180.254722[km]\n",
      "5400.0\n",
      "Para T = 90[min], h=281.393463[km]\n",
      "86400.0\n",
      "Para T = 1[d], h=35869.065523[km]\n"
     ]
    }
   ],
   "source": [
    "datos = [\"45 min km\",\"90 min km\",\"1 d km\"]\n",
    "\n",
    "for i in datos:\n",
    "    T,T_unit,h_unit = i.split(\" \")\n",
    "    periodo = T\n",
    "    T = Transform(T_unit,T)\n",
    "    print T\n",
    "    h = (((G*M*T**2)/(4*pi**2))**(1./3))-R\n",
    "    if h_unit == \"km\":\n",
    "        h = h/1000\n",
    "    print \"Para T = %s[%s], h=%f[%s]\"%(periodo,T_unit,h,h_unit)\n",
    "    "
   ]
  },
  {
   "cell_type": "markdown",
   "metadata": {},
   "source": [
    "Nótese que $T = 2\\pi/\\omega$ pero $\\omega = v/r $ esto implica $T=2\\pi r/v$ pero $r = h + R$ sustituyendo\n",
    "\n",
    "\\begin{equation}\n",
    "h=\\left(\\dfrac{GM\\left(\\dfrac{2\\pi(h+R)}{v}\\right)^2}{4\\pi^2}\\right)^{1/3}-R = \\left(\\dfrac{G(h+R)^24\\pi^2}{4v^2\\pi^2}\\right)^{1/3}-R\n",
    "\\end{equation}\n",
    "\n",
    "Tenemos entonces que\n",
    "\n",
    "\\begin{equation}\n",
    "h=\\left(\\dfrac{G(h+R)^24\\pi^2}{4v^2\\pi^2}\\right)^{1/3}-R\n",
    "\\end{equation}\n",
    "\n",
    "Luego, tenemos\n",
    "\n",
    "\\begin{equation}\n",
    "\\dfrac{(h+R)^3}{(h+R)^2}=\\left(\\dfrac{G4\\pi^2}{4v^2\\pi^2}\\right)\n",
    "\\end{equation}\n",
    "\n",
    "Entonces\n",
    "\n",
    "\\begin{equation}\n",
    "h=\\left(\\dfrac{G}{v^2}\\right)-R\n",
    "\\end{equation}\n",
    "\n",
    "Implica\n",
    "\n",
    "\\begin{equation}\n",
    "v =\\sqrt{\\left(\\dfrac{G}{h + R}\\right)}\n",
    "\\end{equation}\n"
   ]
  },
  {
   "cell_type": "markdown",
   "metadata": {},
   "source": [
    "## Problema 4\n",
    "\n",
    "Compara"
   ]
  },
  {
   "cell_type": "code",
   "execution_count": 12,
   "metadata": {},
   "outputs": [
    {
     "name": "stdout",
     "output_type": "stream",
     "text": [
      "Ingresa los coeficientes a b c de tu cuadratica, separados por espacios y entre parentesis\"1 1 1\"\n"
     ]
    },
    {
     "ename": "ValueError",
     "evalue": "math domain error",
     "output_type": "error",
     "traceback": [
      "\u001b[0;31m---------------------------------------------------------------------------\u001b[0m",
      "\u001b[0;31mValueError\u001b[0m                                Traceback (most recent call last)",
      "\u001b[0;32m<ipython-input-12-8caecbc96a64>\u001b[0m in \u001b[0;36m<module>\u001b[0;34m()\u001b[0m\n\u001b[1;32m      5\u001b[0m \u001b[0mb\u001b[0m\u001b[0;34m=\u001b[0m\u001b[0mfloat\u001b[0m\u001b[0;34m(\u001b[0m\u001b[0mb\u001b[0m\u001b[0;34m)\u001b[0m\u001b[0;34m\u001b[0m\u001b[0m\n\u001b[1;32m      6\u001b[0m \u001b[0mc\u001b[0m\u001b[0;34m=\u001b[0m\u001b[0mfloat\u001b[0m\u001b[0;34m(\u001b[0m\u001b[0mc\u001b[0m\u001b[0;34m)\u001b[0m\u001b[0;34m\u001b[0m\u001b[0m\n\u001b[0;32m----> 7\u001b[0;31m \u001b[0mx_1\u001b[0m \u001b[0;34m=\u001b[0m \u001b[0;34m[\u001b[0m\u001b[0;34m(\u001b[0m\u001b[0;34m-\u001b[0m\u001b[0mb\u001b[0m\u001b[0;34m+\u001b[0m\u001b[0msqrt\u001b[0m\u001b[0;34m(\u001b[0m\u001b[0;34m(\u001b[0m\u001b[0mb\u001b[0m\u001b[0;34m**\u001b[0m\u001b[0;36m2\u001b[0m\u001b[0;34m)\u001b[0m\u001b[0;34m-\u001b[0m\u001b[0;36m4\u001b[0m\u001b[0;34m*\u001b[0m\u001b[0ma\u001b[0m\u001b[0;34m*\u001b[0m\u001b[0mc\u001b[0m\u001b[0;34m)\u001b[0m\u001b[0;34m)\u001b[0m\u001b[0;34m/\u001b[0m\u001b[0;36m2\u001b[0m\u001b[0;34m*\u001b[0m\u001b[0ma\u001b[0m\u001b[0;34m,\u001b[0m \u001b[0;34m(\u001b[0m\u001b[0;34m-\u001b[0m\u001b[0mb\u001b[0m\u001b[0;34m-\u001b[0m\u001b[0msqrt\u001b[0m\u001b[0;34m(\u001b[0m\u001b[0;34m(\u001b[0m\u001b[0mb\u001b[0m\u001b[0;34m**\u001b[0m\u001b[0;36m2\u001b[0m\u001b[0;34m)\u001b[0m\u001b[0;34m-\u001b[0m\u001b[0;36m4\u001b[0m\u001b[0;34m*\u001b[0m\u001b[0ma\u001b[0m\u001b[0;34m*\u001b[0m\u001b[0mc\u001b[0m\u001b[0;34m)\u001b[0m\u001b[0;34m)\u001b[0m\u001b[0;34m/\u001b[0m\u001b[0;36m2\u001b[0m\u001b[0;34m*\u001b[0m\u001b[0ma\u001b[0m\u001b[0;34m]\u001b[0m\u001b[0;34m\u001b[0m\u001b[0m\n\u001b[0m\u001b[1;32m      8\u001b[0m \u001b[0mx_2\u001b[0m \u001b[0;34m=\u001b[0m \u001b[0;34m[\u001b[0m\u001b[0;34m(\u001b[0m\u001b[0;36m2\u001b[0m\u001b[0;34m*\u001b[0m\u001b[0mc\u001b[0m\u001b[0;34m/\u001b[0m\u001b[0;34m(\u001b[0m\u001b[0;34m-\u001b[0m\u001b[0mb\u001b[0m\u001b[0;34m+\u001b[0m\u001b[0msqrt\u001b[0m\u001b[0;34m(\u001b[0m\u001b[0;34m(\u001b[0m\u001b[0mb\u001b[0m\u001b[0;34m**\u001b[0m\u001b[0;36m2\u001b[0m\u001b[0;34m)\u001b[0m\u001b[0;34m-\u001b[0m\u001b[0;36m4\u001b[0m\u001b[0;34m*\u001b[0m\u001b[0ma\u001b[0m\u001b[0;34m*\u001b[0m\u001b[0mc\u001b[0m\u001b[0;34m)\u001b[0m\u001b[0;34m)\u001b[0m\u001b[0;34m)\u001b[0m\u001b[0;34m,\u001b[0m\u001b[0;34m(\u001b[0m\u001b[0;36m2\u001b[0m\u001b[0;34m*\u001b[0m\u001b[0mc\u001b[0m\u001b[0;34m/\u001b[0m\u001b[0;34m(\u001b[0m\u001b[0;34m-\u001b[0m\u001b[0mb\u001b[0m\u001b[0;34m-\u001b[0m\u001b[0msqrt\u001b[0m\u001b[0;34m(\u001b[0m\u001b[0;34m(\u001b[0m\u001b[0mb\u001b[0m\u001b[0;34m**\u001b[0m\u001b[0;36m2\u001b[0m\u001b[0;34m)\u001b[0m\u001b[0;34m-\u001b[0m\u001b[0;36m4\u001b[0m\u001b[0;34m*\u001b[0m\u001b[0ma\u001b[0m\u001b[0;34m*\u001b[0m\u001b[0mc\u001b[0m\u001b[0;34m)\u001b[0m\u001b[0;34m)\u001b[0m\u001b[0;34m)\u001b[0m\u001b[0;34m]\u001b[0m\u001b[0;34m\u001b[0m\u001b[0m\n\u001b[1;32m      9\u001b[0m \u001b[0;34m\u001b[0m\u001b[0m\n",
      "\u001b[0;31mValueError\u001b[0m: math domain error"
     ]
    }
   ],
   "source": [
    "coef = input(\"Ingresa los coeficientes a b c de tu cuadratica, separados por espacios y entre parentesis\")\n",
    "\n",
    "a,b,c=coef.split(\" \")\n",
    "a=float(a)\n",
    "b=float(b)\n",
    "c=float(c)\n",
    "x_1 = [(-b+sqrt((b**2)-4*a*c))/2*a, (-b-sqrt((b**2)-4*a*c))/2*a]\n",
    "x_2 = [(2*c/(-b+sqrt((b**2)-4*a*c))),(2*c/(-b-sqrt((b**2)-4*a*c)))]\n",
    "\n",
    "print \"Las raices son x_1=%f y x_2=%f\"%(x_1[0],x_1[1])\n",
    "print \"Las raices son x_1=%f y x_2=%f\"%(x_2[0],x_2[1])"
   ]
  },
  {
   "cell_type": "code",
   "execution_count": 6,
   "metadata": {},
   "outputs": [],
   "source": []
  },
  {
   "cell_type": "code",
   "execution_count": 25,
   "metadata": {},
   "outputs": [
    {
     "data": {
      "text/plain": [
       "2.0100000000000007"
      ]
     },
     "execution_count": 25,
     "metadata": {},
     "output_type": "execute_result"
    }
   ],
   "source": [
    "def f(x):\n",
    "    return x**2\n",
    "\n",
    "def df(g,x,h):\n",
    "    return (g(x+h)-g(x))/float(h)\n",
    "\n",
    "df(f,1,0.01)"
   ]
  }
 ],
 "metadata": {
  "kernelspec": {
   "display_name": "Python 2",
   "language": "python",
   "name": "python2"
  },
  "language_info": {
   "codemirror_mode": {
    "name": "ipython",
    "version": 2
   },
   "file_extension": ".py",
   "mimetype": "text/x-python",
   "name": "python",
   "nbconvert_exporter": "python",
   "pygments_lexer": "ipython2",
   "version": "2.7.15"
  }
 },
 "nbformat": 4,
 "nbformat_minor": 2
}
