{
 "cells": [
  {
   "cell_type": "markdown",
   "metadata": {},
   "source": [
    "# Tarea 1\n",
    "\n",
    "## Problema 1\n",
    "\n",
    "Conversión de unidades de energía, partiendo de las siguientes relaciones:\n",
    "* $E_h = 2 \\left[Ry\\right]$\n",
    "* $E_h = 27.2113845 \\left[eV\\right]$\n",
    "* $E_h = 2625.5 \\left[\\dfrac{kJ}{mol}\\right]$\n",
    "* $E_h = 627.509391 \\left[\\dfrac{kcal}{mol}\\right]$\n",
    "\n",
    "a)"
   ]
  },
  {
   "cell_type": "code",
   "execution_count": 18,
   "metadata": {},
   "outputs": [
    {
     "name": "stdout",
     "output_type": "stream",
     "text": [
      "Ingresa un valor de Energia en Rydbergs123\n",
      "123.000000 [Rydberg] = 61.500000 [Hartree]\n",
      "123.000000 [Rydberg] = 1673.500147 [eV]\n",
      "123.000000 [Rydberg] = 161468.250000 [kJ/mol]\n",
      "123.000000 [Rydberg] = 38591.827547 [kcal/mol]\n"
     ]
    }
   ],
   "source": [
    "Rydberg = float(input(\"Ingresa un valor de Energia en Rydbergs\"))\n",
    "\n",
    "Transformaciones = [Rydberg/2,(27.2113845/2)*Rydberg,(2625.5/2)*Rydberg,(627.509391/2)*Rydberg]\n",
    "Unidades = [\"Hartree\",\"eV\",\"kJ/mol\",\"kcal/mol\"]\n",
    "\n",
    "for i in range(len(Transformaciones)):\n",
    "    print \"%f [Rydberg] = %f [%s]\"%(Rydberg,Transformaciones[i],Unidades[i])"
   ]
  },
  {
   "cell_type": "markdown",
   "metadata": {},
   "source": [
    "b)"
   ]
  },
  {
   "cell_type": "code",
   "execution_count": 10,
   "metadata": {},
   "outputs": [
    {
     "name": "stdout",
     "output_type": "stream",
     "text": [
      "El siguiente codigo cambia las energias de unidades\n",
      "escribe las energias entre comillas con su unidad entre corchetes,\n",
      "separando el valor por un espacio es decir: \"12 [eV]\"\n",
      "solo los siguientes valores son validos\n",
      "[Eh] [Ry] [eV] [kJ/mol] [kcal/mol]\n",
      "Ingresa la energia con sus unidades\"27.211385 [eV]\"\n",
      "27.211385[eV] = 1.000000[Eh]\n",
      "27.211385[eV] = 2.000000[Ry]\n",
      "27.211385[eV] = 2625.500048[kJ/mol]\n",
      "27.211385[eV] = 627.509403[kcal/mol]\n"
     ]
    }
   ],
   "source": [
    "# por cuestiones de claridad no\n",
    "# devolveré inmediatamente el arreglo :) \n",
    "# (sé que arriba no lo hice XD)\n",
    "def Rydberg(x):\n",
    "    H = x/2\n",
    "    eV = (27.2113845/2)*x\n",
    "    kJmol = (2625.5/2)*x\n",
    "    kcalmol = (627.509391/2)*x\n",
    "    return [[H,eV,kJmol,kcalmol],[\"Eh\",\"eV\",\"kJ/mol\",\"kcal/mol\"]]\n",
    "    \n",
    "def Hartree(x):\n",
    "    R = x*2\n",
    "    eV = 27.2113845*x\n",
    "    kJmol = 2625.5*x\n",
    "    kcalmol = 627.509391*x\n",
    "    return [[R,eV,kJmol,kcalmol],[\"Ry\",\"eV\",\"kJ/mol\",\"kcal/mol\"]]\n",
    "\n",
    "def electronVolt(x):\n",
    "    H = x/27.2113845\n",
    "    R = 2*x/27.2113845\n",
    "    kJmol = (2625.5/27.2113845)*x\n",
    "    kcalmol = (627.509391/27.2113845)*x\n",
    "    return [[H,R,kJmol,kcalmol],[\"Eh\",\"Ry\",\"kJ/mol\",\"kcal/mol\"]]\n",
    "\n",
    "def kiloJouleMol(x):\n",
    "    H = x/2625.5\n",
    "    R = x*2/2625.5\n",
    "    eV = (27.2113845/2625.5)*x\n",
    "    kcalmol = (627.509391/2625.5)*x\n",
    "    return [[H,R,eV,kcalmol],[\"Eh\",\"Ry\",\"eV\",\"kcal/mol\"]]\n",
    "\n",
    "def kilocalMol(x):\n",
    "    H = x/627.509391\n",
    "    R = x*2/627.509391\n",
    "    eV = (27.2113845/627.509391)*x\n",
    "    kJmol = (2625.5/627.509391)*x\n",
    "    return [[H,R,eV,kJmol],[\"Eh\",\"Ry\",\"eV\",\"kJ/mol\"]]\n",
    "    \n",
    "print \"El siguiente codigo cambia las energias de unidades\"\n",
    "print \"escribe las energias entre comillas con su unidad entre corchetes,\"\n",
    "print \"separando el valor por un espacio es decir: \\\"12 [eV]\\\"\"\n",
    "print \"solo los siguientes valores son validos\"\n",
    "print \"[Eh] [Ry] [eV] [kJ/mol] [kcal/mol]\"\n",
    "\n",
    "Energia = input(\"Ingresa la energia con sus unidades\")\n",
    "\n",
    "valor, unidades = Energia.split(\" \")\n",
    "valor = float(valor)\n",
    "\n",
    "if unidades == \"[Ry]\":\n",
    "    T = Rydberg(valor)\n",
    "    for i in range(len(T[0])):\n",
    "        print \"%f[Ry] = %f[%s]\"%(valor,T[0][i],T[1][i])\n",
    "elif unidades == \"[Eh]\":\n",
    "    T = Hartree(valor)\n",
    "    for i in range(len(T[0])):\n",
    "        print \"%f[Eh] = %f[%s]\"%(valor,T[0][i],T[1][i])\n",
    "elif unidades == \"[eV]\":\n",
    "    T = electronVolt(valor)\n",
    "    for i in range(len(T[0])):\n",
    "        print \"%f[eV] = %f[%s]\"%(valor,T[0][i],T[1][i])\n",
    "elif unidades == \"[kJ/mol]\":\n",
    "    T = kiloJouleMol(valor)\n",
    "    for i in range(len(T[0])):\n",
    "        print \"%f[kJ/mol] = %f[%s]\"%(valor,T[0][i],T[1][i])\n",
    "elif unidades == \"[kcal/mol]\":\n",
    "    T = kilocalMol(valor)\n",
    "    for i in range(len(T[0])):\n",
    "        print \"%f[kcal/mol] = %f[%s]\"%(valor,T[0][i],T[1][i])\n",
    "else:\n",
    "    print \"Valor o formato incorrecto\""
   ]
  },
  {
   "cell_type": "markdown",
   "metadata": {},
   "source": [
    "## Problema 2 (Transformaciones)"
   ]
  },
  {
   "cell_type": "code",
   "execution_count": 38,
   "metadata": {},
   "outputs": [],
   "source": [
    "from math import *\n",
    "\n",
    "def cart_pol (x , y ):\n",
    "    r = sqrt(x**2+y**2)\n",
    "    if x > 0 and y > 0:\n",
    "        theta = degrees(atan(y/x))\n",
    "    elif x > 0 and y < 0:\n",
    "        theta = 360-degrees(atan(y/x))\n",
    "    elif x < 0 and y > 0:\n",
    "        theta = 180-degrees(atan(y/x))\n",
    "    elif x < 0 and y < 0:\n",
    "        theta = 180+degrees(atan(y/x))\n",
    "    elif x == 0 and y > 0:\n",
    "        theta = 90\n",
    "    elif x == 0 and y < 0:\n",
    "        theta = 270\n",
    "    elif x > 0 and y == 0:\n",
    "        tehta = 0\n",
    "    elif x < 0 and y == 0:\n",
    "        theta = 180\n",
    "    elif x == 0 and y == 0:\n",
    "        return \"Error\"\n",
    "    return r , theta\n",
    "\n",
    "def pol_cart (r , theta ):\n",
    "    x = r*cos(radians(theta))\n",
    "    y = r*sin(radians(theta))\n",
    "    return x , y\n",
    "\n",
    "def cart_cil (x ,y , z ):\n",
    "    r = sqrt(x**2+y**2)\n",
    "    theta = cart_pol(x,y)[1]\n",
    "    return r , theta , z\n",
    "\n",
    "def cart_esf (x , y , z ):\n",
    "    r = sqrt(x**2+y**2+z**2)\n",
    "    theta = cart_pol(z,sqrt(x**2+y**2))[1]\n",
    "    phi = cart_pol(x,y)[1]\n",
    "    return r , theta , phi\n",
    "# continuas con las otras funciones"
   ]
  },
  {
   "cell_type": "code",
   "execution_count": 41,
   "metadata": {},
   "outputs": [
    {
     "name": "stdout",
     "output_type": "stream",
     "text": [
      "(1.4142135623730951, 45.0)\n",
      "(1.0000000000000002, 1.0)\n",
      "(1.4142135623730951, 45.0, 3)\n",
      "(1.7320508075688772, 54.735610317245346, 45.0)\n"
     ]
    }
   ],
   "source": [
    "print cart_pol(1,1)\n",
    "print pol_cart(sqrt(2),45)\n",
    "print cart_cil(1,1,3)\n",
    "print cart_esf(1,1,1)"
   ]
  },
  {
   "cell_type": "markdown",
   "metadata": {},
   "source": [
    "## Problema 3 Satelite\n",
    "Tenemos:\n",
    "\\begin{equation} \n",
    "h = \\left(\\dfrac{GMT^2}{4π^2}\\right)− R\n",
    "\\end{equation}\n",
    "sabemos que:\n",
    "\\begin{equation} \n",
    "h = \\left(\\dfrac{GM}{4π^2}\\dfrac{1}{\\nu^2}\\right)− R\n",
    "\\end{equation}\n",
    "pero, esto nos da\n",
    "\\begin{equation}\n",
    "h = \\left(\\dfrac{GM}{\\omega^2}\\right)− R\n",
    "\\end{equation}\n",
    "esto es:\n",
    "\\begin{equation}\n",
    "r = \\left(\\dfrac{GMr^2}{v_t^2}\\right)− R\n",
    "\\end{equation}\n",
    "implica que\n",
    "\\begin{equation}\n",
    "r+R = \\left(\\dfrac{GMr^2}{v_t^2}\\right)\n",
    "\\end{equation}"
   ]
  },
  {
   "cell_type": "code",
   "execution_count": null,
   "metadata": {},
   "outputs": [],
   "source": [
    "def hoursSec(x):\n",
    "    return \n",
    "\n",
    "T = input(\"Ingrese el periodo\")\n",
    "\n"
   ]
  }
 ],
 "metadata": {
  "kernelspec": {
   "display_name": "Python 2",
   "language": "python",
   "name": "python2"
  },
  "language_info": {
   "codemirror_mode": {
    "name": "ipython",
    "version": 2
   },
   "file_extension": ".py",
   "mimetype": "text/x-python",
   "name": "python",
   "nbconvert_exporter": "python",
   "pygments_lexer": "ipython2",
   "version": "2.7.15"
  }
 },
 "nbformat": 4,
 "nbformat_minor": 2
}
