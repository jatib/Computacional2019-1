{
 "cells": [
  {
   "cell_type": "markdown",
   "metadata": {},
   "source": [
    "# Tarea 1\n",
    "\n",
    "Conversión de unidades de energía"
   ]
  },
  {
   "cell_type": "code",
   "execution_count": 18,
   "metadata": {},
   "outputs": [
    {
     "name": "stdout",
     "output_type": "stream",
     "text": [
      "Ingresa un valor de Energia en Rydbergs123\n",
      "123.000000 [Rydberg] = 61.500000 [Hartree]\n",
      "123.000000 [Rydberg] = 1673.500147 [eV]\n",
      "123.000000 [Rydberg] = 161468.250000 [kJ/mol]\n",
      "123.000000 [Rydberg] = 38591.827547 [kcal/mol]\n"
     ]
    }
   ],
   "source": [
    "Rydberg = float(input(\"Ingresa un valor de Energia en Rydbergs\"))\n",
    "\n",
    "Transformaciones = [Rydberg/2,(27.2113845/2)*Rydberg,(2625.5/2)*Rydberg,(627.509391/2)*Rydberg]\n",
    "Unidades = [\"Hartree\",\"eV\",\"kJ/mol\",\"kcal/mol\"]\n",
    "\n",
    "for i in range(len(Transformaciones)):\n",
    "    print \"%f [Rydberg] = %f [%s]\"%(Rydberg,Transformaciones[i],Unidades[i])"
   ]
  },
  {
   "cell_type": "code",
   "execution_count": 28,
   "metadata": {},
   "outputs": [
    {
     "name": "stdout",
     "output_type": "stream",
     "text": [
      "El siguiente codigo cambia las energias de unidades\n",
      "escribe las energias entre comillas con su unidad entre corchetes,\n",
      "separando el valor por un espacio es decir: \"12 [eV]\"\n",
      "solo los siguientes valores son validos\n",
      "[Eh] [Ry] [eV] [kJ/mol] [kcal/mol]\n",
      "Ingresa la energia con sus unidades\"12 [Ry]\"\n",
      "[6.0, 163.268307, 15753.0, 3765.0563460000003]\n",
      "['Eh', 'eV', 'kJ/mol', 'kcal/mol']\n"
     ]
    }
   ],
   "source": [
    "# por cuestiones de claridad no\n",
    "# devolveré inmediatamente el arreglo :) \n",
    "# (sé que arriba no lo hice XD)\n",
    "def Rydberg(x):\n",
    "    H = x/2\n",
    "    eV = (27.2113845/2)*x\n",
    "    kJmol = (2625.5/2)*x\n",
    "    kcalmol = (627.509391/2)*x\n",
    "    return [[H,eV,kJmol,kcalmol],[\"Eh\",\"eV\",\"kJ/mol\",\"kcal/mol\"]]\n",
    "    \n",
    "def Hartree(x):\n",
    "    R = x*2\n",
    "    eV = 27.2113845*x\n",
    "    kJmol = 2625.5*x\n",
    "    kcalmol = 627.509391*x\n",
    "    return [[R,eV,kJmol,kcalmol],[\"Ry\",\"eV\",\"kJ/mol\",\"kcal/mol\"]]\n",
    "\n",
    "def electronVolt(x):\n",
    "    H = x/27.2113845\n",
    "    R = 2*x/27.2113845\n",
    "    kJmol = (2625.5/27.2113845)*x\n",
    "    kcalmol = (627.509391/27.2113845)*x\n",
    "    return [[H,R,kJmol,kcalmol],[\"Eh\",\"Ry\",\"kJ/mol\",\"kcal/mol\"]]\n",
    "\n",
    "def kiloJouleMol(x):\n",
    "    H = x/2625.5\n",
    "    R = x*2/2625.5\n",
    "    eV = (27.2113845/2625.5)*x\n",
    "    kcalmol = (627.509391/2625.5)*x\n",
    "    return [[H,R,eV,kcalmol],[\"Eh\",\"Ry\",\"eV\",\"kcal/mol\"]]\n",
    "\n",
    "def kilocalMol(x):\n",
    "    H = x/627.509391\n",
    "    R = x*2/627.509391\n",
    "    eV = (27.2113845/627.509391)*x\n",
    "    kJmol = (2625.5/627.509391)*x\n",
    "    return [[H,R,eV,kJmol],[\"Eh\",\"Ry\",\"eV\",\"kJ/mol\"]]\n",
    "    \n",
    "print \"El siguiente codigo cambia las energias de unidades\"\n",
    "print \"escribe las energias entre comillas con su unidad entre corchetes,\"\n",
    "print \"separando el valor por un espacio es decir: \\\"12 [eV]\\\"\"\n",
    "print \"solo los siguientes valores son validos\"\n",
    "print \"[Eh] [Ry] [eV] [kJ/mol] [kcal/mol]\"\n",
    "Energia = input(\"Ingresa la energia con sus unidades\")\n",
    "\n",
    "valor, unidades = Energia.split(\" \")\n",
    "valor = float(valor)\n",
    "\n",
    "if unidades == \"[Ry]\":\n",
    "    T = Rydberg(valor)\n",
    "    for i in T:\n",
    "        print i\n",
    "    #for i in range(len(T[0])):\n",
    "        #print T[i][i]"
   ]
  }
 ],
 "metadata": {
  "kernelspec": {
   "display_name": "Python 2",
   "language": "python",
   "name": "python2"
  },
  "language_info": {
   "codemirror_mode": {
    "name": "ipython",
    "version": 2
   },
   "file_extension": ".py",
   "mimetype": "text/x-python",
   "name": "python",
   "nbconvert_exporter": "python",
   "pygments_lexer": "ipython2",
   "version": "2.7.15"
  }
 },
 "nbformat": 4,
 "nbformat_minor": 2
}
