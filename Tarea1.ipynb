{
 "cells": [
  {
   "cell_type": "markdown",
   "metadata": {},
   "source": [
    "# T1\n",
    "\n",
    "Transformación de unidades\n",
    "\n",
    "a)\n"
   ]
  },
  {
   "cell_type": "code",
   "execution_count": 6,
   "metadata": {},
   "outputs": [
    {
     "name": "stdout",
     "output_type": "stream",
     "text": [
      "Ingresa un valor de energia:\t10\n",
      "\n",
      "Hartee: 5.000000\n",
      "eV: 136.056981\n",
      "kJ/mol: 13127.500000\n",
      "kcal/mol: 3137.546955 \n"
     ]
    }
   ],
   "source": [
    "Rydberg = float(input(\"Ingresa un valor de energia:\\t\"))\n",
    "\n",
    "Hartree = Rydberg/2\n",
    "eV = 13.605698066*Rydberg\n",
    "kJmol = (2625.5/2)*Rydberg\n",
    "kcalmol = (627.509391/2)*Rydberg\n",
    "\n",
    "print \"\\nHartee: %f\\neV: %f\\nkJ/mol: %f\\nkcal/mol: %f \"%(Hartree,eV,kJmol,kcalmol)"
   ]
  },
  {
   "cell_type": "markdown",
   "metadata": {},
   "source": [
    "b)"
   ]
  },
  {
   "cell_type": "code",
   "execution_count": null,
   "metadata": {},
   "outputs": [],
   "source": [
    "Energia = input(\"Ingresa un valor de energía y sus unidades\\t\")\n",
    "valor,unidad = Energia.split(\" \")\n",
    "\n"
   ]
  }
 ],
 "metadata": {
  "kernelspec": {
   "display_name": "Python 2",
   "language": "python",
   "name": "python2"
  },
  "language_info": {
   "codemirror_mode": {
    "name": "ipython",
    "version": 2
   },
   "file_extension": ".py",
   "mimetype": "text/x-python",
   "name": "python",
   "nbconvert_exporter": "python",
   "pygments_lexer": "ipython2",
   "version": "2.7.15"
  }
 },
 "nbformat": 4,
 "nbformat_minor": 2
}
