{
 "cells": [
  {
   "cell_type": "code",
   "execution_count": 42,
   "metadata": {},
   "outputs": [],
   "source": [
    "import time\n",
    "import math"
   ]
  },
  {
   "cell_type": "code",
   "execution_count": 43,
   "metadata": {},
   "outputs": [],
   "source": [
    "def En(n):\n",
    "    return n+(1./2.)\n",
    "\n",
    "Zeta=0\n",
    "\n",
    "for i in range(1001):\n",
    "   Zeta+=math.exp((-100)*En(i))"
   ]
  },
  {
   "cell_type": "code",
   "execution_count": 45,
   "metadata": {},
   "outputs": [
    {
     "name": "stdout",
     "output_type": "stream",
     "text": [
      "0.00163102149963 segundos\n"
     ]
    }
   ],
   "source": [
    "t_0=time.time()\n",
    "\n",
    "E=0\n",
    "\n",
    "\n",
    "for i in range(1001):\n",
    "    E+=(1./Zeta)*(i+(1./2.))*math.exp((-100)*(i+(1./2.)))\n",
    "\n",
    "print \"%s segundos\"%(time.time()-t_0)"
   ]
  }
 ],
 "metadata": {
  "kernelspec": {
   "display_name": "Python 2",
   "language": "python",
   "name": "python2"
  },
  "language_info": {
   "codemirror_mode": {
    "name": "ipython",
    "version": 2
   },
   "file_extension": ".py",
   "mimetype": "text/x-python",
   "name": "python",
   "nbconvert_exporter": "python",
   "pygments_lexer": "ipython2",
   "version": "2.7.15"
  }
 },
 "nbformat": 4,
 "nbformat_minor": 2
}
