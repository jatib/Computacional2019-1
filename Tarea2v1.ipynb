{
 "cells": [
  {
   "cell_type": "markdown",
   "metadata": {},
   "source": [
    "# Tarea 2\n",
    "\n",
    "### 1.- Método de las secántes\n",
    "a) Para proponer un intervalo veamos las raices de la función a aproximar, que al ser cubica debe tener a lo más 3 raíces:\n",
    "\n",
    "$$ x^3-10x^2+5 = 0$$\n",
    "Entonces tenemos que\n",
    "\n",
    "$$ x^2(x-10) +5= 0 $$\n",
    "\n",
    "entonces\n",
    "![alt text](img/sec.png)\n",
    "\n",
    "d) Dados $x_1$ y $x_2$, haciendo $f(x_1) = f_1$ y $f(x_2)=f_2$, por semejanza de triangulos tenemos que:\n",
    "\n",
    "$$ \\dfrac{x_2-x_1}{f_2-f_1}=\\dfrac{x_2-x_3}{f_2} $$\n",
    "\n",
    "Luego tenemos que:\n",
    "\n",
    "$$ f_2\\dfrac{x_2-x_1}{f_2-f_1}=x_2-x_3 $$\n",
    "\n",
    "Luego:\n",
    "\n",
    "$$ -x_3 =-x_2+f_2\\dfrac{x_2-x_1}{f_2-f_1} $$\n",
    "\n",
    "así por tanto\n",
    "\n",
    "$$ x_3 =x_2-f_2\\dfrac{x_2-x_1}{f_2-f_1} $$"
   ]
  },
  {
   "cell_type": "code",
   "execution_count": 18,
   "metadata": {},
   "outputs": [],
   "source": [
    "def secante(f,x1,x2,tol=1e-6):\n",
    "    pasos = 0\n",
    "    x3 = x2-f(x2)*(x2-x1)/(f(x2)-f(x1))\n",
    "    while abs(x3-x2)>tol:\n",
    "        x1=x2\n",
    "        x2=x3\n",
    "        x3 = x2-f(x2)*(x2-x1)/(f(x2)-f(x1))\n",
    "        pasos += 1\n",
    "    return x3,pasos"
   ]
  },
  {
   "cell_type": "code",
   "execution_count": 14,
   "metadata": {},
   "outputs": [],
   "source": [
    "g = lambda x:x**3-10*x**2+5"
   ]
  },
  {
   "cell_type": "code",
   "execution_count": 15,
   "metadata": {},
   "outputs": [
    {
     "name": "stdout",
     "output_type": "stream",
     "text": [
      "(0.734603507785179, 4)\n"
     ]
    }
   ],
   "source": [
    "print secante(g,0,.8)"
   ]
  },
  {
   "cell_type": "markdown",
   "metadata": {},
   "source": [
    "### 2.- Método de la falsa posición\n",
    "\n"
   ]
  },
  {
   "cell_type": "code",
   "execution_count": 19,
   "metadata": {},
   "outputs": [],
   "source": [
    "def falsi(f,x1,x2,tol=1e-6):\n",
    "    pasos = 0\n",
    "    x3 = x2-f(x2)*(x2-x1)/(f(x2)-f(x1))\n",
    "    while abs(x3-x2)>tol:\n",
    "        if f(x2)*f(x1) > 0:\n",
    "            x1=x3\n",
    "            x3 = x2-f(x2)*(x2-x1)/(f(x2)-f(x1))\n",
    "        else:\n",
    "            x2 = x3\n",
    "            x3 = x2-f(x2)*(x2-x1)/(f(x2)-f(x1))\n",
    "        pasos += 1\n",
    "    return x3,pasos"
   ]
  },
  {
   "cell_type": "code",
   "execution_count": 17,
   "metadata": {},
   "outputs": [
    {
     "name": "stdout",
     "output_type": "stream",
     "text": [
      "(0.7346034613207099, 8)\n"
     ]
    }
   ],
   "source": [
    "print falsi(g,0,1.)"
   ]
  },
  {
   "cell_type": "markdown",
   "metadata": {},
   "source": [
    "### Método de Ridder\n"
   ]
  },
  {
   "cell_type": "code",
   "execution_count": 53,
   "metadata": {},
   "outputs": [],
   "source": [
    "def ridder(f,x1,x2,tol=1e-6):\n",
    "    x3 = (x1+x2)/2\n",
    "    pasos = 0\n",
    "    if f(x3) == 0:\n",
    "        pasos += 1\n",
    "        return x3,pasos\n",
    "    else:\n",
    "        if f(x1)-f(x2)>0:\n",
    "            x4 = x3 + (x3-x1)*f(x3)/sqrt(f(x3)**2-f(x1)*f(x2))\n",
    "        elif f(x1)-f(x2)<0:\n",
    "            x4 = x3 - (x3-x1)*f(x3)/sqrt(f(x3)**2-f(x1)*f(x2))\n",
    "        while (x4-x3) > tol:\n",
    "            x1 = x2\n",
    "            x2 = x3\n",
    "            x3 = (x1+x2)/2\n",
    "            if f(x3) == 0:\n",
    "                pasos += 1\n",
    "                return x3,pasos\n",
    "            else:\n",
    "                if f(x1)-f(x2)>0:\n",
    "                    x4 = x3 + (x3-x1)*f(x3)/sqrt(f(x3)**2-f(x1)*f(x2))\n",
    "                elif f(x1)-f(x2)<0:\n",
    "                    x4 = x3 - (x3-x1)*f(x3)/sqrt(f(x3)**2-f(x1)*f(x2))\n",
    "            pasos +=1\n",
    "        return x4,pasos\n",
    "            "
   ]
  },
  {
   "cell_type": "code",
   "execution_count": 54,
   "metadata": {},
   "outputs": [],
   "source": [
    "h = lambda x: 1./((x-.3)**2+.001)-1./((x-.8)**2+.004)"
   ]
  },
  {
   "cell_type": "code",
   "execution_count": 23,
   "metadata": {},
   "outputs": [],
   "source": [
    "from pylab import *"
   ]
  },
  {
   "cell_type": "code",
   "execution_count": 55,
   "metadata": {},
   "outputs": [
    {
     "data": {
      "text/plain": [
       "(-10, 10)"
      ]
     },
     "execution_count": 55,
     "metadata": {},
     "output_type": "execute_result"
    },
    {
     "data": {
      "image/png": "[encoded data removed]",
      "text/plain": [
       "<matplotlib.figure.Figure at 0x7fd36bc9cad0>"
      ]
     },
     "metadata": {},
     "output_type": "display_data"
    }
   ],
   "source": [
    "x = arange(-10,10,0.001)\n",
    "plot(x,h(x));grid(True);xlim(-2.5,10);ylim(-10,10)"
   ]
  },
  {
   "cell_type": "code",
   "execution_count": 56,
   "metadata": {},
   "outputs": [
    {
     "data": {
      "text/plain": [
       "(0.5015882417931123, 1)"
      ]
     },
     "execution_count": 56,
     "metadata": {},
     "output_type": "execute_result"
    }
   ],
   "source": [
    "ridder(h,0,1.,1e-10)"
   ]
  },
  {
   "cell_type": "code",
   "execution_count": 57,
   "metadata": {},
   "outputs": [
    {
     "data": {
      "text/plain": [
       "13.269668567919181"
      ]
     },
     "execution_count": 57,
     "metadata": {},
     "output_type": "execute_result"
    }
   ],
   "source": [
    "h(0.5015882417931123)"
   ]
  }
 ],
 "metadata": {
  "kernelspec": {
   "display_name": "Python 2",
   "language": "python",
   "name": "python2"
  },
  "language_info": {
   "codemirror_mode": {
    "name": "ipython",
    "version": 2
   },
   "file_extension": ".py",
   "mimetype": "text/x-python",
   "name": "python",
   "nbconvert_exporter": "python",
   "pygments_lexer": "ipython2",
   "version": "2.7.15"
  }
 },
 "nbformat": 4,
 "nbformat_minor": 2
}
