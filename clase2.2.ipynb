{
 "cells": [
  {
   "cell_type": "code",
   "execution_count": 8,
   "metadata": {},
   "outputs": [],
   "source": [
    "def factorial(a):\n",
    "    if a == 0:\n",
    "        return 1\n",
    "    else:\n",
    "        for i in range(1,a):\n",
    "            a*=i\n",
    "        return a\n",
    "\n",
    "def combinatoria(n,k):\n",
    "    if n < k:\n",
    "        return \"%d es mayor que %d, no se puede\"%(k,n)\n",
    "    else:\n",
    "        return float(factorial(n))/(factorial(k)*factorial(n-k))\n",
    "\n",
    "def coeficiente(n):\n",
    "    lista = []\n",
    "    if n==0:\n",
    "        lista.append(1)\n",
    "    else:\n",
    "        for i in range(n+1):\n",
    "            lista.append(int(combinatoria(n,i)))\n",
    "    return lista\n",
    "        \n",
    "def printSp(a):\n",
    "    sp = \"\"\n",
    "    for i in range(a):\n",
    "        sp +=\" \"\n",
    "    return sp\n",
    " \n",
    "def pira(a):\n",
    "    for i in range(a):\n",
    "        if i < 5:\n",
    "            d = printSp(a-i)+\" \"\n",
    "        else:\n",
    "            d = printSp(a-i)\n",
    "        for j in coeficiente(i):\n",
    "            if j < 9:\n",
    "                d+=str(j)+\" \"\n",
    "            else:\n",
    "                d+=str(j)+\" \"\n",
    "        print d"
   ]
  },
  {
   "cell_type": "code",
   "execution_count": 9,
   "metadata": {},
   "outputs": [
    {
     "data": {
      "text/plain": [
       "788657867364790503552363213932185062295135977687173263294742533244359449963403342920304284011984623904177212138919638830257642790242637105061926624952829931113462857270763317237396988943922445621451664240254033291864131227428294853277524242407573903240321257405579568660226031904170324062351700858796178922222789623703897374720000000000000000000000000000000000000000000000000L"
      ]
     },
     "execution_count": 9,
     "metadata": {},
     "output_type": "execute_result"
    }
   ],
   "source": [
    "factorial(200)"
   ]
  },
  {
   "cell_type": "code",
   "execution_count": 11,
   "metadata": {},
   "outputs": [
    {
     "name": "stdout",
     "output_type": "stream",
     "text": [
      "3.3\n"
     ]
    }
   ],
   "source": [
    "x=1.1+2.2\n",
    "print x"
   ]
  },
  {
   "cell_type": "code",
   "execution_count": 15,
   "metadata": {},
   "outputs": [],
   "source": [
    "if x == 3.3:\n",
    "    print x"
   ]
  },
  {
   "cell_type": "code",
   "execution_count": 17,
   "metadata": {},
   "outputs": [],
   "source": [
    "epsilon=1e-12"
   ]
  },
  {
   "cell_type": "code",
   "execution_count": 18,
   "metadata": {},
   "outputs": [
    {
     "name": "stdout",
     "output_type": "stream",
     "text": [
      "3.3\n"
     ]
    }
   ],
   "source": [
    "if abs(x-3.3)<epsilon:\n",
    "    print x"
   ]
  },
  {
   "cell_type": "code",
   "execution_count": 27,
   "metadata": {},
   "outputs": [],
   "source": [
    "x=10000000000000000"
   ]
  },
  {
   "cell_type": "code",
   "execution_count": 30,
   "metadata": {},
   "outputs": [],
   "source": [
    "y=10000000000000001.12356789"
   ]
  },
  {
   "cell_type": "code",
   "execution_count": 31,
   "metadata": {},
   "outputs": [
    {
     "name": "stdout",
     "output_type": "stream",
     "text": [
      "2.0\n"
     ]
    }
   ],
   "source": [
    "print y-x"
   ]
  },
  {
   "cell_type": "code",
   "execution_count": 34,
   "metadata": {},
   "outputs": [
    {
     "data": {
      "text/plain": [
       "78.00437497372769"
      ]
     },
     "execution_count": 34,
     "metadata": {},
     "output_type": "execute_result"
    }
   ],
   "source": [
    "((2.-1.12356789)/1.12356789)*100"
   ]
  },
  {
   "cell_type": "code",
   "execution_count": 35,
   "metadata": {},
   "outputs": [],
   "source": [
    "def f(x):\n",
    "    return x*(x-1)"
   ]
  },
  {
   "cell_type": "code",
   "execution_count": 41,
   "metadata": {},
   "outputs": [],
   "source": [
    "def derivada(x,d):\n",
    "    return float(((x+d)**2-(x+d))-(x**2-x))/float(d)"
   ]
  },
  {
   "cell_type": "code",
   "execution_count": 42,
   "metadata": {},
   "outputs": [
    {
     "name": "stdout",
     "output_type": "stream",
     "text": [
      "1.01\n"
     ]
    }
   ],
   "source": [
    "print derivada(1,0.01)"
   ]
  },
  {
   "cell_type": "code",
   "execution_count": 89,
   "metadata": {},
   "outputs": [
    {
     "name": "stdout",
     "output_type": "stream",
     "text": [
      "0.00204586982727 segundos\n"
     ]
    }
   ],
   "source": [
    "import time\n",
    "import math\n",
    "t_0=time.time()\n",
    "E=0\n",
    "Z=0\n",
    "boltz=100\n",
    "for i in range(1001):\n",
    "        E+=(i+(1./2.))*math.exp((-boltz)*(i+(1./2.)))\n",
    "        Z+=math.exp((-boltz)*(i+1./2.))\n",
    "print \"%s segundos\"%(time.time()-t_0)"
   ]
  },
  {
   "cell_type": "code",
   "execution_count": 62,
   "metadata": {},
   "outputs": [
    {
     "name": "stdout",
     "output_type": "stream",
     "text": [
      "1.01 ::: 0.01 -> Error: 2.1984614349e-14 %\n",
      "1.0001 ::: 0.0001 -> Error: 7.1779842788e-11 %\n",
      "1.00000100001 ::: 1e-06 -> Error: 6.63402002733e-10 %\n",
      "0.999999993923 ::: 1e-08 -> Error: 1.60774707494e-06 %\n",
      "1.00000008274 ::: 1e-10 -> Error: 8.26403709826e-06 %\n",
      "1.00008890058 ::: 1e-12 -> Error: 0.00889005813408 %\n",
      "0.999200722163 ::: 1e-14 -> Error: 0.0799277837369 %\n",
      "0.0 ::: 1e-16 -> Error: 100.0 %\n",
      "0.0 ::: 1e-18 -> Error: 100.0 %\n"
     ]
    }
   ],
   "source": [
    "for i in range(1,10):\n",
    "    print derivada(1,10**-(2*i)),\":::\",10**-(2*i),\"-> Error:\",(abs((1.+10**-(2*i))-derivada(1,10**-(2*i)))/(1.+10**-(2*i)))*100,\"%\""
   ]
  }
 ],
 "metadata": {
  "kernelspec": {
   "display_name": "Python 2",
   "language": "python",
   "name": "python2"
  },
  "language_info": {
   "codemirror_mode": {
    "name": "ipython",
    "version": 2
   },
   "file_extension": ".py",
   "mimetype": "text/x-python",
   "name": "python",
   "nbconvert_exporter": "python",
   "pygments_lexer": "ipython2",
   "version": "2.7.15"
  }
 },
 "nbformat": 4,
 "nbformat_minor": 2
}
